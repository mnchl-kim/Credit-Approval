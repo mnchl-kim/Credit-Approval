{
  "nbformat": 4,
  "nbformat_minor": 0,
  "metadata": {
    "colab": {
      "name": "Credit Approval.ipynb",
      "provenance": [],
      "collapsed_sections": []
    },
    "kernelspec": {
      "name": "python3",
      "display_name": "Python 3"
    }
  },
  "cells": [
    {
      "cell_type": "code",
      "metadata": {
        "colab": {
          "base_uri": "https://localhost:8080/",
          "height": 35
        },
        "id": "UT9YZfqWA-nd",
        "outputId": "cd94ed5b-407f-4ac8-dbf6-c336e424611b"
      },
      "source": [
        "'''\n",
        "Written by\n",
        "Mincheol Kim\n",
        "\n",
        "Biomedical Informatics Lab.,\n",
        "Department of Digital Health,\n",
        "Samsung Advanced Institute for Health Sciences & Technology,\n",
        "SungKyunKwan University, Korea\n",
        "\n",
        "Email : mc.kim@skku.edu\n",
        "        mincheol.kim.1996@gmail.com\n",
        "Mobile : +82-10-4930-7545\n",
        "'''"
      ],
      "execution_count": 1,
      "outputs": [
        {
          "output_type": "execute_result",
          "data": {
            "application/vnd.google.colaboratory.intrinsic+json": {
              "type": "string"
            },
            "text/plain": [
              "'\\nWritten by\\nMincheol Kim\\n\\nBiomedical Informatics Lab.,\\nDepartment of Digital Health,\\nSamsung Advanced Institute for Health Sciences & Technology,\\nSungKyunKwan University, Korea\\n\\nEmail : mc.kim@skku.edu\\n        mincheol.kim.1996@gmail.com\\nMobile : +82-10-4930-7545\\n'"
            ]
          },
          "metadata": {
            "tags": []
          },
          "execution_count": 1
        }
      ]
    },
    {
      "cell_type": "markdown",
      "metadata": {
        "id": "IYI44Mm5AhIG"
      },
      "source": [
        "# 0. Import Packages"
      ]
    },
    {
      "cell_type": "code",
      "metadata": {
        "id": "JwcW1QRlAtkJ"
      },
      "source": [
        "import random\n",
        "\n",
        "import numpy as np\n",
        "import pandas as pd\n",
        "\n",
        "import matplotlib.pyplot as plt\n",
        "%matplotlib inline\n",
        "\n",
        "from sklearn.preprocessing import MinMaxScaler\n",
        "\n",
        "from sklearn.tree import DecisionTreeClassifier\n",
        "from sklearn.neural_network import MLPClassifier\n",
        "from sklearn.ensemble import RandomForestClassifier\n",
        "from sklearn.linear_model import LogisticRegression\n",
        "from sklearn.neural_network import BernoulliRBM\n",
        "from sklearn.pipeline import Pipeline\n",
        "\n",
        "from sklearn.model_selection import GridSearchCV, cross_validate, cross_val_score, cross_val_predict\n",
        "from sklearn.metrics import confusion_matrix, classification_report"
      ],
      "execution_count": 2,
      "outputs": []
    },
    {
      "cell_type": "code",
      "metadata": {
        "id": "UOpyf7b2AUXq"
      },
      "source": [
        "random_seed = 42\n",
        "\n",
        "random.seed(random_seed)\n",
        "np.random.seed(random_seed)"
      ],
      "execution_count": 3,
      "outputs": []
    },
    {
      "cell_type": "markdown",
      "metadata": {
        "id": "BpE2bpp_JuBR"
      },
      "source": [
        "# 1. Benchmark Dataset"
      ]
    },
    {
      "cell_type": "markdown",
      "metadata": {
        "id": "yE_sapyZAjX8"
      },
      "source": [
        "## 1-1. Load Dataset"
      ]
    },
    {
      "cell_type": "code",
      "metadata": {
        "id": "7-Id_cSgAjl4"
      },
      "source": [
        "df_raw = pd.read_csv(\"http://archive.ics.uci.edu/ml/machine-learning-databases/credit-screening/crx.data\", header=None)"
      ],
      "execution_count": 4,
      "outputs": []
    },
    {
      "cell_type": "markdown",
      "metadata": {
        "id": "pPeiYridAlL6"
      },
      "source": [
        "## 1-2. Preprocess Dataset"
      ]
    },
    {
      "cell_type": "code",
      "metadata": {
        "id": "7sjWl_9eDstz"
      },
      "source": [
        "df = df_raw.copy()"
      ],
      "execution_count": 5,
      "outputs": []
    },
    {
      "cell_type": "markdown",
      "metadata": {
        "id": "BVCGLP2rGAQG"
      },
      "source": [
        "Check dataset"
      ]
    },
    {
      "cell_type": "code",
      "metadata": {
        "colab": {
          "base_uri": "https://localhost:8080/"
        },
        "id": "PlKCKSpAAlet",
        "outputId": "60bd70c3-837d-4e87-eb13-bfc0159b6563"
      },
      "source": [
        "df.info()"
      ],
      "execution_count": 6,
      "outputs": [
        {
          "output_type": "stream",
          "text": [
            "<class 'pandas.core.frame.DataFrame'>\n",
            "RangeIndex: 690 entries, 0 to 689\n",
            "Data columns (total 16 columns):\n",
            " #   Column  Non-Null Count  Dtype  \n",
            "---  ------  --------------  -----  \n",
            " 0   0       690 non-null    object \n",
            " 1   1       690 non-null    object \n",
            " 2   2       690 non-null    float64\n",
            " 3   3       690 non-null    object \n",
            " 4   4       690 non-null    object \n",
            " 5   5       690 non-null    object \n",
            " 6   6       690 non-null    object \n",
            " 7   7       690 non-null    float64\n",
            " 8   8       690 non-null    object \n",
            " 9   9       690 non-null    object \n",
            " 10  10      690 non-null    int64  \n",
            " 11  11      690 non-null    object \n",
            " 12  12      690 non-null    object \n",
            " 13  13      690 non-null    object \n",
            " 14  14      690 non-null    int64  \n",
            " 15  15      690 non-null    object \n",
            "dtypes: float64(2), int64(2), object(12)\n",
            "memory usage: 86.4+ KB\n"
          ],
          "name": "stdout"
        }
      ]
    },
    {
      "cell_type": "code",
      "metadata": {
        "colab": {
          "base_uri": "https://localhost:8080/",
          "height": 204
        },
        "id": "Dmro3CHeB_W7",
        "outputId": "0da8fae5-7f9b-44fb-8986-6d222845888c"
      },
      "source": [
        "df.head(5)"
      ],
      "execution_count": 7,
      "outputs": [
        {
          "output_type": "execute_result",
          "data": {
            "text/html": [
              "<div>\n",
              "<style scoped>\n",
              "    .dataframe tbody tr th:only-of-type {\n",
              "        vertical-align: middle;\n",
              "    }\n",
              "\n",
              "    .dataframe tbody tr th {\n",
              "        vertical-align: top;\n",
              "    }\n",
              "\n",
              "    .dataframe thead th {\n",
              "        text-align: right;\n",
              "    }\n",
              "</style>\n",
              "<table border=\"1\" class=\"dataframe\">\n",
              "  <thead>\n",
              "    <tr style=\"text-align: right;\">\n",
              "      <th></th>\n",
              "      <th>0</th>\n",
              "      <th>1</th>\n",
              "      <th>2</th>\n",
              "      <th>3</th>\n",
              "      <th>4</th>\n",
              "      <th>5</th>\n",
              "      <th>6</th>\n",
              "      <th>7</th>\n",
              "      <th>8</th>\n",
              "      <th>9</th>\n",
              "      <th>10</th>\n",
              "      <th>11</th>\n",
              "      <th>12</th>\n",
              "      <th>13</th>\n",
              "      <th>14</th>\n",
              "      <th>15</th>\n",
              "    </tr>\n",
              "  </thead>\n",
              "  <tbody>\n",
              "    <tr>\n",
              "      <th>0</th>\n",
              "      <td>b</td>\n",
              "      <td>30.83</td>\n",
              "      <td>0.000</td>\n",
              "      <td>u</td>\n",
              "      <td>g</td>\n",
              "      <td>w</td>\n",
              "      <td>v</td>\n",
              "      <td>1.25</td>\n",
              "      <td>t</td>\n",
              "      <td>t</td>\n",
              "      <td>1</td>\n",
              "      <td>f</td>\n",
              "      <td>g</td>\n",
              "      <td>00202</td>\n",
              "      <td>0</td>\n",
              "      <td>+</td>\n",
              "    </tr>\n",
              "    <tr>\n",
              "      <th>1</th>\n",
              "      <td>a</td>\n",
              "      <td>58.67</td>\n",
              "      <td>4.460</td>\n",
              "      <td>u</td>\n",
              "      <td>g</td>\n",
              "      <td>q</td>\n",
              "      <td>h</td>\n",
              "      <td>3.04</td>\n",
              "      <td>t</td>\n",
              "      <td>t</td>\n",
              "      <td>6</td>\n",
              "      <td>f</td>\n",
              "      <td>g</td>\n",
              "      <td>00043</td>\n",
              "      <td>560</td>\n",
              "      <td>+</td>\n",
              "    </tr>\n",
              "    <tr>\n",
              "      <th>2</th>\n",
              "      <td>a</td>\n",
              "      <td>24.50</td>\n",
              "      <td>0.500</td>\n",
              "      <td>u</td>\n",
              "      <td>g</td>\n",
              "      <td>q</td>\n",
              "      <td>h</td>\n",
              "      <td>1.50</td>\n",
              "      <td>t</td>\n",
              "      <td>f</td>\n",
              "      <td>0</td>\n",
              "      <td>f</td>\n",
              "      <td>g</td>\n",
              "      <td>00280</td>\n",
              "      <td>824</td>\n",
              "      <td>+</td>\n",
              "    </tr>\n",
              "    <tr>\n",
              "      <th>3</th>\n",
              "      <td>b</td>\n",
              "      <td>27.83</td>\n",
              "      <td>1.540</td>\n",
              "      <td>u</td>\n",
              "      <td>g</td>\n",
              "      <td>w</td>\n",
              "      <td>v</td>\n",
              "      <td>3.75</td>\n",
              "      <td>t</td>\n",
              "      <td>t</td>\n",
              "      <td>5</td>\n",
              "      <td>t</td>\n",
              "      <td>g</td>\n",
              "      <td>00100</td>\n",
              "      <td>3</td>\n",
              "      <td>+</td>\n",
              "    </tr>\n",
              "    <tr>\n",
              "      <th>4</th>\n",
              "      <td>b</td>\n",
              "      <td>20.17</td>\n",
              "      <td>5.625</td>\n",
              "      <td>u</td>\n",
              "      <td>g</td>\n",
              "      <td>w</td>\n",
              "      <td>v</td>\n",
              "      <td>1.71</td>\n",
              "      <td>t</td>\n",
              "      <td>f</td>\n",
              "      <td>0</td>\n",
              "      <td>f</td>\n",
              "      <td>s</td>\n",
              "      <td>00120</td>\n",
              "      <td>0</td>\n",
              "      <td>+</td>\n",
              "    </tr>\n",
              "  </tbody>\n",
              "</table>\n",
              "</div>"
            ],
            "text/plain": [
              "  0      1      2  3  4  5  6     7  8  9   10 11 12     13   14 15\n",
              "0  b  30.83  0.000  u  g  w  v  1.25  t  t   1  f  g  00202    0  +\n",
              "1  a  58.67  4.460  u  g  q  h  3.04  t  t   6  f  g  00043  560  +\n",
              "2  a  24.50  0.500  u  g  q  h  1.50  t  f   0  f  g  00280  824  +\n",
              "3  b  27.83  1.540  u  g  w  v  3.75  t  t   5  t  g  00100    3  +\n",
              "4  b  20.17  5.625  u  g  w  v  1.71  t  f   0  f  s  00120    0  +"
            ]
          },
          "metadata": {
            "tags": []
          },
          "execution_count": 7
        }
      ]
    },
    {
      "cell_type": "markdown",
      "metadata": {
        "id": "YRILoVCNGB77"
      },
      "source": [
        "Drop '?' value"
      ]
    },
    {
      "cell_type": "code",
      "metadata": {
        "id": "cE5WNQZTFMP-"
      },
      "source": [
        "df = df.replace('?', np.nan)\n",
        "df = df.dropna(axis=0, how='any')"
      ],
      "execution_count": 8,
      "outputs": []
    },
    {
      "cell_type": "code",
      "metadata": {
        "id": "bL3GktxQFgzI"
      },
      "source": [
        "df[1] = df[1].astype(float)"
      ],
      "execution_count": 9,
      "outputs": []
    },
    {
      "cell_type": "markdown",
      "metadata": {
        "id": "M_vu8ZI9GGKM"
      },
      "source": [
        "Drop Attribute 13 (Zip code)"
      ]
    },
    {
      "cell_type": "code",
      "metadata": {
        "id": "mB-3by6PGJUo"
      },
      "source": [
        "df = df.drop([13], axis=1)"
      ],
      "execution_count": 10,
      "outputs": []
    },
    {
      "cell_type": "markdown",
      "metadata": {
        "id": "lsTxfca6GRQe"
      },
      "source": [
        "Exploratory Data Anaylsis (EDA)"
      ]
    },
    {
      "cell_type": "code",
      "metadata": {
        "colab": {
          "base_uri": "https://localhost:8080/"
        },
        "id": "pvh7ESBYFRAa",
        "outputId": "ff66ba3a-c333-486f-9d13-d3a3d4c20b3d"
      },
      "source": [
        "df.info()"
      ],
      "execution_count": 11,
      "outputs": [
        {
          "output_type": "stream",
          "text": [
            "<class 'pandas.core.frame.DataFrame'>\n",
            "Int64Index: 653 entries, 0 to 689\n",
            "Data columns (total 15 columns):\n",
            " #   Column  Non-Null Count  Dtype  \n",
            "---  ------  --------------  -----  \n",
            " 0   0       653 non-null    object \n",
            " 1   1       653 non-null    float64\n",
            " 2   2       653 non-null    float64\n",
            " 3   3       653 non-null    object \n",
            " 4   4       653 non-null    object \n",
            " 5   5       653 non-null    object \n",
            " 6   6       653 non-null    object \n",
            " 7   7       653 non-null    float64\n",
            " 8   8       653 non-null    object \n",
            " 9   9       653 non-null    object \n",
            " 10  10      653 non-null    int64  \n",
            " 11  11      653 non-null    object \n",
            " 12  12      653 non-null    object \n",
            " 13  14      653 non-null    int64  \n",
            " 14  15      653 non-null    object \n",
            "dtypes: float64(3), int64(2), object(10)\n",
            "memory usage: 81.6+ KB\n"
          ],
          "name": "stdout"
        }
      ]
    },
    {
      "cell_type": "code",
      "metadata": {
        "id": "PxKi_xsBEOmw"
      },
      "source": [
        "df_num = df.select_dtypes(include=['int64', 'float64'])\n",
        "df_cat = df.select_dtypes(include=['object'])"
      ],
      "execution_count": 12,
      "outputs": []
    },
    {
      "cell_type": "code",
      "metadata": {
        "colab": {
          "base_uri": "https://localhost:8080/",
          "height": 879
        },
        "id": "_tdYrJDXG0ca",
        "outputId": "13d4c4c6-71e4-444a-86d9-060e2703b7f4"
      },
      "source": [
        "df_num.hist(bins='auto', figsize=(20, 15))\n",
        "plt.show()"
      ],
      "execution_count": 13,
      "outputs": [
        {
          "output_type": "display_data",
          "data": {
            "image/png": "[encoded data removed]",
            "text/plain": [
              "<Figure size 1440x1080 with 6 Axes>"
            ]
          },
          "metadata": {
            "tags": [],
            "needs_background": "light"
          }
        }
      ]
    },
    {
      "cell_type": "code",
      "metadata": {
        "colab": {
          "base_uri": "https://localhost:8080/"
        },
        "id": "ak3ZYkmFEfcf",
        "outputId": "bd8fc6dd-4de5-46b2-95ae-5e8dd2698a9c"
      },
      "source": [
        "for col in df_cat.columns:\n",
        "  print(\"Attribute\", str(col))\n",
        "  print(df[col].value_counts().sort_index(), end='\\n\\n')"
      ],
      "execution_count": 14,
      "outputs": [
        {
          "output_type": "stream",
          "text": [
            "Attribute 0\n",
            "a    203\n",
            "b    450\n",
            "Name: 0, dtype: int64\n",
            "\n",
            "Attribute 3\n",
            "l      2\n",
            "u    499\n",
            "y    152\n",
            "Name: 3, dtype: int64\n",
            "\n",
            "Attribute 4\n",
            "g     499\n",
            "gg      2\n",
            "p     152\n",
            "Name: 4, dtype: int64\n",
            "\n",
            "Attribute 5\n",
            "aa     52\n",
            "c     133\n",
            "cc     40\n",
            "d      26\n",
            "e      24\n",
            "ff     50\n",
            "i      55\n",
            "j      10\n",
            "k      48\n",
            "m      38\n",
            "q      75\n",
            "r       3\n",
            "w      63\n",
            "x      36\n",
            "Name: 5, dtype: int64\n",
            "\n",
            "Attribute 6\n",
            "bb     53\n",
            "dd      6\n",
            "ff     54\n",
            "h     137\n",
            "j       8\n",
            "n       4\n",
            "o       2\n",
            "v     381\n",
            "z       8\n",
            "Name: 6, dtype: int64\n",
            "\n",
            "Attribute 8\n",
            "f    304\n",
            "t    349\n",
            "Name: 8, dtype: int64\n",
            "\n",
            "Attribute 9\n",
            "f    366\n",
            "t    287\n",
            "Name: 9, dtype: int64\n",
            "\n",
            "Attribute 11\n",
            "f    351\n",
            "t    302\n",
            "Name: 11, dtype: int64\n",
            "\n",
            "Attribute 12\n",
            "g    598\n",
            "p      2\n",
            "s     53\n",
            "Name: 12, dtype: int64\n",
            "\n",
            "Attribute 15\n",
            "+    296\n",
            "-    357\n",
            "Name: 15, dtype: int64\n",
            "\n"
          ],
          "name": "stdout"
        }
      ]
    },
    {
      "cell_type": "code",
      "metadata": {
        "id": "xHMuZsaOMDKs"
      },
      "source": [
        "df[14] = df[14].map(lambda x: np.log(x + 1))"
      ],
      "execution_count": 15,
      "outputs": []
    },
    {
      "cell_type": "code",
      "metadata": {
        "colab": {
          "base_uri": "https://localhost:8080/",
          "height": 265
        },
        "id": "XADPzhlSMTEj",
        "outputId": "2a21963a-54a3-4d3f-9d6d-d3337669bfcb"
      },
      "source": [
        "df[14].hist(bins='auto')\n",
        "plt.show()"
      ],
      "execution_count": 16,
      "outputs": [
        {
          "output_type": "display_data",
          "data": {
            "image/png": "[encoded data removed]",
            "text/plain": [
              "<Figure size 432x288 with 1 Axes>"
            ]
          },
          "metadata": {
            "tags": [],
            "needs_background": "light"
          }
        }
      ]
    },
    {
      "cell_type": "code",
      "metadata": {
        "id": "w4ZSOErqQoVW"
      },
      "source": [
        "df[15] = (df[15] == '+').astype(int)"
      ],
      "execution_count": 17,
      "outputs": []
    },
    {
      "cell_type": "code",
      "metadata": {
        "id": "4IkqBQO_QXlh"
      },
      "source": [
        "df[df_num.columns] = MinMaxScaler().fit_transform(df[df_num.columns])"
      ],
      "execution_count": 18,
      "outputs": []
    },
    {
      "cell_type": "code",
      "metadata": {
        "id": "3UWcJ9MgT87v"
      },
      "source": [
        "cat_dummy = list(df_cat.columns)\n",
        "cat_dummy.remove(15)"
      ],
      "execution_count": 19,
      "outputs": []
    },
    {
      "cell_type": "code",
      "metadata": {
        "id": "a92PULI_Poqe"
      },
      "source": [
        "df = pd.get_dummies(df, columns=cat_dummy, prefix=cat_dummy)"
      ],
      "execution_count": 20,
      "outputs": []
    },
    {
      "cell_type": "code",
      "metadata": {
        "id": "sdiwE0mwCQD6"
      },
      "source": [
        "X = df.drop(15, axis=1).copy()\n",
        "Y = df[15].copy()\n",
        "\n",
        "X = np.array(X.values)\n",
        "Y = np.array(Y.values)"
      ],
      "execution_count": 21,
      "outputs": []
    },
    {
      "cell_type": "markdown",
      "metadata": {
        "id": "qLD5BYKcAlxw"
      },
      "source": [
        "# 2. Machine Learning Models"
      ]
    },
    {
      "cell_type": "markdown",
      "metadata": {
        "id": "RS3vI7xbJgQ9"
      },
      "source": [
        "## 2-1. Canonical Models"
      ]
    },
    {
      "cell_type": "markdown",
      "metadata": {
        "id": "7fqWrncMKGmg"
      },
      "source": [
        "Decision Tree (DT)"
      ]
    },
    {
      "cell_type": "code",
      "metadata": {
        "id": "NEoBPajMAn4X"
      },
      "source": [
        "dt_clf = DecisionTreeClassifier(criterion='entropy', \n",
        "                                splitter='best', \n",
        "                                random_state=42)"
      ],
      "execution_count": 22,
      "outputs": []
    },
    {
      "cell_type": "code",
      "metadata": {
        "id": "RW9dfnW0eeS4"
      },
      "source": [
        "dt_results = cross_validate(dt_clf, X, Y, scoring=[\"accuracy\", \"precision\", \"recall\", \"f1\"], cv=10)"
      ],
      "execution_count": 23,
      "outputs": []
    },
    {
      "cell_type": "code",
      "metadata": {
        "colab": {
          "base_uri": "https://localhost:8080/"
        },
        "id": "zWPerJ-VWTgW",
        "outputId": "3782e035-66c6-4144-f74b-c4a2bc1c7cd0"
      },
      "source": [
        "dt_accuracy = dt_results[\"test_accuracy\"]\n",
        "dt_accuracy"
      ],
      "execution_count": 24,
      "outputs": [
        {
          "output_type": "execute_result",
          "data": {
            "text/plain": [
              "array([0.53030303, 0.78787879, 0.90909091, 0.90769231, 0.89230769,\n",
              "       0.87692308, 0.83076923, 0.63076923, 0.92307692, 0.86153846])"
            ]
          },
          "metadata": {
            "tags": []
          },
          "execution_count": 24
        }
      ]
    },
    {
      "cell_type": "code",
      "metadata": {
        "colab": {
          "base_uri": "https://localhost:8080/"
        },
        "id": "aI61WWsJXxk4",
        "outputId": "fb177d4f-6025-4ca6-f8e4-6fd6490e20df"
      },
      "source": [
        "dt_precision = dt_results[\"test_precision\"]\n",
        "dt_precision"
      ],
      "execution_count": 25,
      "outputs": [
        {
          "output_type": "execute_result",
          "data": {
            "text/plain": [
              "array([0.4893617 , 0.78571429, 1.        , 0.92857143, 0.92592593,\n",
              "       0.89285714, 0.875     , 0.56097561, 0.92857143, 1.        ])"
            ]
          },
          "metadata": {
            "tags": []
          },
          "execution_count": 25
        }
      ]
    },
    {
      "cell_type": "code",
      "metadata": {
        "colab": {
          "base_uri": "https://localhost:8080/"
        },
        "id": "1HfJLsfaYCA3",
        "outputId": "39be3872-8f3e-41ba-e983-32a254440cac"
      },
      "source": [
        "dt_recall = dt_results[\"test_recall\"]\n",
        "dt_recall"
      ],
      "execution_count": 26,
      "outputs": [
        {
          "output_type": "execute_result",
          "data": {
            "text/plain": [
              "array([0.76666667, 0.73333333, 0.8       , 0.86666667, 0.83333333,\n",
              "       0.83333333, 0.72413793, 0.79310345, 0.89655172, 0.68965517])"
            ]
          },
          "metadata": {
            "tags": []
          },
          "execution_count": 26
        }
      ]
    },
    {
      "cell_type": "code",
      "metadata": {
        "colab": {
          "base_uri": "https://localhost:8080/"
        },
        "id": "ETXYpO9gYbmz",
        "outputId": "69a25095-4995-475f-9c3b-6e53c46748d5"
      },
      "source": [
        "dt_f1 = dt_results[\"test_f1\"]\n",
        "dt_f1"
      ],
      "execution_count": 27,
      "outputs": [
        {
          "output_type": "execute_result",
          "data": {
            "text/plain": [
              "array([0.5974026 , 0.75862069, 0.88888889, 0.89655172, 0.87719298,\n",
              "       0.86206897, 0.79245283, 0.65714286, 0.9122807 , 0.81632653])"
            ]
          },
          "metadata": {
            "tags": []
          },
          "execution_count": 27
        }
      ]
    },
    {
      "cell_type": "code",
      "metadata": {
        "colab": {
          "base_uri": "https://localhost:8080/"
        },
        "id": "d72hkxzUXrXu",
        "outputId": "0576374b-dc51-4bc9-9a00-63fd3676a778"
      },
      "source": [
        "print(\"Decision Tree\", end='\\n\\n')\n",
        "print(\"Accuracy  :\", round(dt_accuracy.mean(), 3))\n",
        "print(\"Precision :\", round(dt_precision.mean(), 3))\n",
        "print(\"Recall    :\", round(dt_recall.mean(), 3))\n",
        "print(\"F1        :\", round(dt_f1.mean(), 3))"
      ],
      "execution_count": 28,
      "outputs": [
        {
          "output_type": "stream",
          "text": [
            "Decision Tree\n",
            "\n",
            "Accuracy  : 0.815\n",
            "Precision : 0.839\n",
            "Recall    : 0.794\n",
            "F1        : 0.806\n"
          ],
          "name": "stdout"
        }
      ]
    },
    {
      "cell_type": "code",
      "metadata": {
        "colab": {
          "base_uri": "https://localhost:8080/"
        },
        "id": "GVMfgi09Wc6Q",
        "outputId": "1c234696-e4c9-4a1b-a73f-565236ffa38c"
      },
      "source": [
        "dt_predict = cross_val_predict(dt_clf, X, Y, cv=10)\n",
        "confusion_matrix(Y, dt_predict)"
      ],
      "execution_count": 29,
      "outputs": [
        {
          "output_type": "execute_result",
          "data": {
            "text/plain": [
              "array([[297,  60],\n",
              "       [ 61, 235]])"
            ]
          },
          "metadata": {
            "tags": []
          },
          "execution_count": 29
        }
      ]
    },
    {
      "cell_type": "markdown",
      "metadata": {
        "id": "I0UqC6S7KI6u"
      },
      "source": [
        "Multi Layer Perceptrons (MLP)"
      ]
    },
    {
      "cell_type": "code",
      "metadata": {
        "id": "w_knmmLOKr5B"
      },
      "source": [
        "mlp_clf = MLPClassifier(hidden_layer_sizes=(128, 128, 128, 128, 32), \n",
        "                        activation='relu', \n",
        "                        solver='adam', \n",
        "                        alpha=0, \n",
        "                        batch_size=64, \n",
        "                        learning_rate='constant', \n",
        "                        learning_rate_init=0.01, \n",
        "                        max_iter=1000, \n",
        "                        shuffle=True, \n",
        "                        random_state=42, \n",
        "                        early_stopping=True, \n",
        "                        validation_fraction=0.2)"
      ],
      "execution_count": 30,
      "outputs": []
    },
    {
      "cell_type": "code",
      "metadata": {
        "id": "MKo2vW5errwR"
      },
      "source": [
        "# param_grid = [\n",
        "#         {\"hidden_layer_sizes\": [ \n",
        "#                                 (128, 128, 128, 128), \n",
        "#                                 (128, 128, 128, 128, 32), \n",
        "#                                 (128, 128, 128, 128, 64), \n",
        "#                                 (128, 128, 128, 128, 32, 16)\n",
        "#                                 ], \n",
        "#          \"learning_rate_init\": [0.01, 0.001]}\n",
        "# ]"
      ],
      "execution_count": 31,
      "outputs": []
    },
    {
      "cell_type": "code",
      "metadata": {
        "id": "L2bp9szGs1lk"
      },
      "source": [
        "# grid_search = GridSearchCV(mlp_clf, param_grid, cv=10, scoring=\"accuracy\", return_train_score=True)"
      ],
      "execution_count": 32,
      "outputs": []
    },
    {
      "cell_type": "code",
      "metadata": {
        "id": "6E70VmQstAuy"
      },
      "source": [
        "# grid_search.fit(X, Y)"
      ],
      "execution_count": 33,
      "outputs": []
    },
    {
      "cell_type": "code",
      "metadata": {
        "id": "TrTmuzmctXsz"
      },
      "source": [
        "# grid_search.best_params_"
      ],
      "execution_count": 34,
      "outputs": []
    },
    {
      "cell_type": "code",
      "metadata": {
        "id": "Y3nPk3cwt3r5"
      },
      "source": [
        "# mlp_cv_results = grid_search.cv_results_"
      ],
      "execution_count": 35,
      "outputs": []
    },
    {
      "cell_type": "code",
      "metadata": {
        "id": "3pUof75ds_ce"
      },
      "source": [
        "# for mean_score, params in zip(mlp_cv_results[\"mean_test_score\"], mlp_cv_results[\"params\"]):\n",
        "#   print(mean_score, params)"
      ],
      "execution_count": 36,
      "outputs": []
    },
    {
      "cell_type": "code",
      "metadata": {
        "id": "B65zmvAdfE00"
      },
      "source": [
        "mlp_results = cross_validate(mlp_clf, X, Y, scoring=[\"accuracy\", \"precision\", \"recall\", \"f1\"], cv=10)"
      ],
      "execution_count": 37,
      "outputs": []
    },
    {
      "cell_type": "code",
      "metadata": {
        "colab": {
          "base_uri": "https://localhost:8080/"
        },
        "id": "WOFW7MGjbLSV",
        "outputId": "865acbd8-72c6-4a60-cd43-3032fedf3c6b"
      },
      "source": [
        "mlp_accuracy = mlp_results[\"test_accuracy\"]\n",
        "mlp_accuracy"
      ],
      "execution_count": 38,
      "outputs": [
        {
          "output_type": "execute_result",
          "data": {
            "text/plain": [
              "array([0.56060606, 0.86363636, 1.        , 0.98461538, 0.92307692,\n",
              "       0.90769231, 0.89230769, 0.63076923, 1.        , 0.87692308])"
            ]
          },
          "metadata": {
            "tags": []
          },
          "execution_count": 38
        }
      ]
    },
    {
      "cell_type": "code",
      "metadata": {
        "colab": {
          "base_uri": "https://localhost:8080/"
        },
        "id": "in8aPnAscpu1",
        "outputId": "088a8de5-fea5-4612-a6b2-19e24e724f5f"
      },
      "source": [
        "mlp_precision = mlp_results[\"test_precision\"]\n",
        "mlp_precision"
      ],
      "execution_count": 39,
      "outputs": [
        {
          "output_type": "execute_result",
          "data": {
            "text/plain": [
              "array([0.51020408, 0.81818182, 1.        , 0.96774194, 1.        ,\n",
              "       0.92857143, 1.        , 0.55813953, 1.        , 0.95652174])"
            ]
          },
          "metadata": {
            "tags": []
          },
          "execution_count": 39
        }
      ]
    },
    {
      "cell_type": "code",
      "metadata": {
        "colab": {
          "base_uri": "https://localhost:8080/"
        },
        "id": "i69ZV03SdBA5",
        "outputId": "b62dce00-3adc-4bf0-85d8-faf8570fb49d"
      },
      "source": [
        "mlp_recall = mlp_results[\"test_recall\"]\n",
        "mlp_recall"
      ],
      "execution_count": 40,
      "outputs": [
        {
          "output_type": "execute_result",
          "data": {
            "text/plain": [
              "array([0.83333333, 0.9       , 1.        , 1.        , 0.83333333,\n",
              "       0.86666667, 0.75862069, 0.82758621, 1.        , 0.75862069])"
            ]
          },
          "metadata": {
            "tags": []
          },
          "execution_count": 40
        }
      ]
    },
    {
      "cell_type": "code",
      "metadata": {
        "colab": {
          "base_uri": "https://localhost:8080/"
        },
        "id": "h3gDbkE8dFGJ",
        "outputId": "8db2abed-7fb2-4341-e623-f4e3fa457afa"
      },
      "source": [
        "mlp_f1 = mlp_results[\"test_f1\"]\n",
        "mlp_f1"
      ],
      "execution_count": 41,
      "outputs": [
        {
          "output_type": "execute_result",
          "data": {
            "text/plain": [
              "array([0.63291139, 0.85714286, 1.        , 0.98360656, 0.90909091,\n",
              "       0.89655172, 0.8627451 , 0.66666667, 1.        , 0.84615385])"
            ]
          },
          "metadata": {
            "tags": []
          },
          "execution_count": 41
        }
      ]
    },
    {
      "cell_type": "code",
      "metadata": {
        "colab": {
          "base_uri": "https://localhost:8080/"
        },
        "id": "pd_Tx9rwfWxO",
        "outputId": "b21fc289-3546-45dc-929a-fd6d0e5b27fa"
      },
      "source": [
        "print(\"Multi Layer Perceptrons\", end='\\n\\n')\n",
        "print(\"Accuracy  :\", round(mlp_accuracy.mean(), 3))\n",
        "print(\"Precision :\", round(mlp_precision.mean(), 3))\n",
        "print(\"Recall    :\", round(mlp_recall.mean(), 3))\n",
        "print(\"F1        :\", round(mlp_f1.mean(), 3))"
      ],
      "execution_count": 42,
      "outputs": [
        {
          "output_type": "stream",
          "text": [
            "Multi Layer Perceptrons\n",
            "\n",
            "Accuracy  : 0.864\n",
            "Precision : 0.874\n",
            "Recall    : 0.878\n",
            "F1        : 0.865\n"
          ],
          "name": "stdout"
        }
      ]
    },
    {
      "cell_type": "code",
      "metadata": {
        "colab": {
          "base_uri": "https://localhost:8080/"
        },
        "id": "MQL4AoosgZ0c",
        "outputId": "26062a15-9b1c-4e42-9269-3f8f4ffdc8e9"
      },
      "source": [
        "mlp_predict = cross_val_predict(mlp_clf, X, Y, cv=10)\n",
        "confusion_matrix(Y, mlp_predict)"
      ],
      "execution_count": 43,
      "outputs": [
        {
          "output_type": "execute_result",
          "data": {
            "text/plain": [
              "array([[304,  53],\n",
              "       [ 36, 260]])"
            ]
          },
          "metadata": {
            "tags": []
          },
          "execution_count": 43
        }
      ]
    },
    {
      "cell_type": "markdown",
      "metadata": {
        "id": "NHootm3-Jj4X"
      },
      "source": [
        "## 2-2. Committee Machines"
      ]
    },
    {
      "cell_type": "markdown",
      "metadata": {
        "id": "lnEFhz1wKUIW"
      },
      "source": [
        "Random Forests (RF)"
      ]
    },
    {
      "cell_type": "code",
      "metadata": {
        "id": "WRpp8_z_J-ij"
      },
      "source": [
        "rf_clf = RandomForestClassifier(n_estimators=100, \n",
        "                                criterion='entropy', \n",
        "                                random_state=42)"
      ],
      "execution_count": 44,
      "outputs": []
    },
    {
      "cell_type": "code",
      "metadata": {
        "id": "gFuhvA4OfprE"
      },
      "source": [
        "rf_results = cross_validate(rf_clf, X, Y, scoring=[\"accuracy\", \"precision\", \"recall\", \"f1\"], cv=10)"
      ],
      "execution_count": 45,
      "outputs": []
    },
    {
      "cell_type": "code",
      "metadata": {
        "colab": {
          "base_uri": "https://localhost:8080/"
        },
        "id": "K2XZcOQDfri8",
        "outputId": "91221fc9-f670-4709-c5c5-f5a3a06306e0"
      },
      "source": [
        "rf_accuracy = rf_results[\"test_accuracy\"]\n",
        "rf_accuracy"
      ],
      "execution_count": 46,
      "outputs": [
        {
          "output_type": "execute_result",
          "data": {
            "text/plain": [
              "array([0.48484848, 0.83333333, 0.98484848, 0.96923077, 0.93846154,\n",
              "       0.92307692, 0.89230769, 0.61538462, 1.        , 0.86153846])"
            ]
          },
          "metadata": {
            "tags": []
          },
          "execution_count": 46
        }
      ]
    },
    {
      "cell_type": "code",
      "metadata": {
        "colab": {
          "base_uri": "https://localhost:8080/"
        },
        "id": "z-7n1aNwfu0f",
        "outputId": "19aa3db5-762d-4532-e98c-64676033ead5"
      },
      "source": [
        "rf_precision = rf_results[\"test_precision\"]\n",
        "rf_precision"
      ],
      "execution_count": 47,
      "outputs": [
        {
          "output_type": "execute_result",
          "data": {
            "text/plain": [
              "array([0.46551724, 0.80645161, 1.        , 0.96666667, 1.        ,\n",
              "       1.        , 1.        , 0.54347826, 1.        , 0.95454545])"
            ]
          },
          "metadata": {
            "tags": []
          },
          "execution_count": 47
        }
      ]
    },
    {
      "cell_type": "code",
      "metadata": {
        "colab": {
          "base_uri": "https://localhost:8080/"
        },
        "id": "5RXeT30tfySk",
        "outputId": "2478e2c1-e67f-4390-a16c-9688db724923"
      },
      "source": [
        "rf_recall = rf_results[\"test_recall\"]\n",
        "rf_recall"
      ],
      "execution_count": 48,
      "outputs": [
        {
          "output_type": "execute_result",
          "data": {
            "text/plain": [
              "array([0.9       , 0.83333333, 0.96666667, 0.96666667, 0.86666667,\n",
              "       0.83333333, 0.75862069, 0.86206897, 1.        , 0.72413793])"
            ]
          },
          "metadata": {
            "tags": []
          },
          "execution_count": 48
        }
      ]
    },
    {
      "cell_type": "code",
      "metadata": {
        "colab": {
          "base_uri": "https://localhost:8080/"
        },
        "id": "XSgGsSlNf1aK",
        "outputId": "5de1d6a0-75ac-48af-ff4a-7035b5de6f16"
      },
      "source": [
        "rf_f1 = rf_results[\"test_f1\"]\n",
        "rf_f1"
      ],
      "execution_count": 49,
      "outputs": [
        {
          "output_type": "execute_result",
          "data": {
            "text/plain": [
              "array([0.61363636, 0.81967213, 0.98305085, 0.96666667, 0.92857143,\n",
              "       0.90909091, 0.8627451 , 0.66666667, 1.        , 0.82352941])"
            ]
          },
          "metadata": {
            "tags": []
          },
          "execution_count": 49
        }
      ]
    },
    {
      "cell_type": "code",
      "metadata": {
        "colab": {
          "base_uri": "https://localhost:8080/"
        },
        "id": "3jUpeSTMw2ta",
        "outputId": "bec80ace-a4b6-436a-c955-4ad8789d5207"
      },
      "source": [
        "print(\"Random Forests\", end='\\n\\n')\n",
        "print(\"Accuracy  :\", round(rf_accuracy.mean(), 3))\n",
        "print(\"Precision :\", round(rf_precision.mean(), 3))\n",
        "print(\"Recall    :\", round(rf_recall.mean(), 3))\n",
        "print(\"F1        :\", round(rf_f1.mean(), 3))"
      ],
      "execution_count": 50,
      "outputs": [
        {
          "output_type": "stream",
          "text": [
            "Random Forests\n",
            "\n",
            "Accuracy  : 0.85\n",
            "Precision : 0.874\n",
            "Recall    : 0.871\n",
            "F1        : 0.857\n"
          ],
          "name": "stdout"
        }
      ]
    },
    {
      "cell_type": "code",
      "metadata": {
        "colab": {
          "base_uri": "https://localhost:8080/"
        },
        "id": "dRLOyiyew1eE",
        "outputId": "60ccf070-ff4f-48e6-a857-55a126adb88a"
      },
      "source": [
        "rf_predict = cross_val_predict(rf_clf, X, Y, cv=10)\n",
        "confusion_matrix(Y, rf_predict)"
      ],
      "execution_count": 51,
      "outputs": [
        {
          "output_type": "execute_result",
          "data": {
            "text/plain": [
              "array([[297,  60],\n",
              "       [ 38, 258]])"
            ]
          },
          "metadata": {
            "tags": []
          },
          "execution_count": 51
        }
      ]
    },
    {
      "cell_type": "markdown",
      "metadata": {
        "id": "PEIy_ruVJ-5t"
      },
      "source": [
        "## 2-3. Deep Learning Methods"
      ]
    },
    {
      "cell_type": "markdown",
      "metadata": {
        "id": "GAr7Le8EKZNz"
      },
      "source": [
        "Restricted Boltzmann Machine (RBM)"
      ]
    },
    {
      "cell_type": "code",
      "metadata": {
        "id": "E-G0nNeDKAzT"
      },
      "source": [
        "logistic = LogisticRegression(solver='newton-cg', C=6000, tol=1)\n",
        "rbm = BernoulliRBM(learning_rate=0.01, n_iter=10, n_components=100, random_state=42)\n",
        "rbm_clf = Pipeline(steps=[('rbm', rbm), ('logistic', logistic)])"
      ],
      "execution_count": 52,
      "outputs": []
    },
    {
      "cell_type": "code",
      "metadata": {
        "id": "Dsjsqckgzt8D"
      },
      "source": [
        "rbm_results = cross_validate(rbm_clf, X, Y, scoring=[\"accuracy\", \"precision\", \"recall\", \"f1\"], cv=10)"
      ],
      "execution_count": 53,
      "outputs": []
    },
    {
      "cell_type": "code",
      "metadata": {
        "colab": {
          "base_uri": "https://localhost:8080/"
        },
        "id": "32qhHtP_z1VA",
        "outputId": "b8f04024-bba0-4a52-c434-2f663aee06ec"
      },
      "source": [
        "rbm_accuracy = rbm_results[\"test_accuracy\"]\n",
        "rbm_accuracy"
      ],
      "execution_count": 54,
      "outputs": [
        {
          "output_type": "execute_result",
          "data": {
            "text/plain": [
              "array([0.63636364, 0.77272727, 0.98484848, 0.95384615, 0.93846154,\n",
              "       0.92307692, 0.81538462, 0.66153846, 0.98461538, 0.83076923])"
            ]
          },
          "metadata": {
            "tags": []
          },
          "execution_count": 54
        }
      ]
    },
    {
      "cell_type": "code",
      "metadata": {
        "colab": {
          "base_uri": "https://localhost:8080/"
        },
        "id": "dOs6l0cRz7CT",
        "outputId": "d5f7b56f-eda7-49ea-a366-527a19a03c76"
      },
      "source": [
        "rbm_precision = rbm_results[\"test_precision\"]\n",
        "rbm_precision"
      ],
      "execution_count": 55,
      "outputs": [
        {
          "output_type": "execute_result",
          "data": {
            "text/plain": [
              "array([0.56818182, 0.77777778, 0.96774194, 0.93548387, 1.        ,\n",
              "       1.        , 0.9047619 , 0.58536585, 0.96666667, 0.95      ])"
            ]
          },
          "metadata": {
            "tags": []
          },
          "execution_count": 55
        }
      ]
    },
    {
      "cell_type": "code",
      "metadata": {
        "colab": {
          "base_uri": "https://localhost:8080/"
        },
        "id": "UugUbiMPz-V2",
        "outputId": "18e4dc8f-2530-4fd7-ec4c-b7844d328797"
      },
      "source": [
        "rbm_recall = rbm_results[\"test_recall\"]\n",
        "rbm_recall"
      ],
      "execution_count": 56,
      "outputs": [
        {
          "output_type": "execute_result",
          "data": {
            "text/plain": [
              "array([0.83333333, 0.7       , 1.        , 0.96666667, 0.86666667,\n",
              "       0.83333333, 0.65517241, 0.82758621, 1.        , 0.65517241])"
            ]
          },
          "metadata": {
            "tags": []
          },
          "execution_count": 56
        }
      ]
    },
    {
      "cell_type": "code",
      "metadata": {
        "colab": {
          "base_uri": "https://localhost:8080/"
        },
        "id": "nVHWlo_jz_g1",
        "outputId": "ce9a022b-d6dd-4f4f-9a94-cfc292e1df6d"
      },
      "source": [
        "rbm_f1 = rbm_results[\"test_precision\"]\n",
        "rbm_f1"
      ],
      "execution_count": 57,
      "outputs": [
        {
          "output_type": "execute_result",
          "data": {
            "text/plain": [
              "array([0.56818182, 0.77777778, 0.96774194, 0.93548387, 1.        ,\n",
              "       1.        , 0.9047619 , 0.58536585, 0.96666667, 0.95      ])"
            ]
          },
          "metadata": {
            "tags": []
          },
          "execution_count": 57
        }
      ]
    },
    {
      "cell_type": "code",
      "metadata": {
        "colab": {
          "base_uri": "https://localhost:8080/"
        },
        "id": "U0AWNSDo0Weu",
        "outputId": "2ae9cba7-f349-464a-af28-aded6094d799"
      },
      "source": [
        "print(\"Restricted Boltzmann Machine\", end='\\n\\n')\n",
        "print(\"Accuracy  :\", round(rbm_accuracy.mean(), 3))\n",
        "print(\"Precision :\", round(rbm_precision.mean(), 3))\n",
        "print(\"Recall    :\", round(rbm_recall.mean(), 3))\n",
        "print(\"F1        :\", round(rbm_f1.mean(), 3))"
      ],
      "execution_count": 58,
      "outputs": [
        {
          "output_type": "stream",
          "text": [
            "Restricted Boltzmann Machine\n",
            "\n",
            "Accuracy  : 0.85\n",
            "Precision : 0.866\n",
            "Recall    : 0.834\n",
            "F1        : 0.866\n"
          ],
          "name": "stdout"
        }
      ]
    },
    {
      "cell_type": "code",
      "metadata": {
        "colab": {
          "base_uri": "https://localhost:8080/"
        },
        "id": "wNxejhPS0c5J",
        "outputId": "da702e51-040e-4cfa-8a98-8360d9c41be0"
      },
      "source": [
        "rbm_predict = cross_val_predict(rbm_clf, X, Y, cv=10)\n",
        "confusion_matrix(Y, rbm_predict)"
      ],
      "execution_count": 59,
      "outputs": [
        {
          "output_type": "execute_result",
          "data": {
            "text/plain": [
              "array([[308,  49],\n",
              "       [ 49, 247]])"
            ]
          },
          "metadata": {
            "tags": []
          },
          "execution_count": 59
        }
      ]
    },
    {
      "cell_type": "code",
      "metadata": {
        "id": "4qIVKqnW0j5J"
      },
      "source": [
        ""
      ],
      "execution_count": 59,
      "outputs": []
    }
  ]
}